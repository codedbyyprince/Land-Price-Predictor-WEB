{
 "cells": [
  {
   "cell_type": "code",
   "execution_count": 2,
   "id": "5d0bbcc5",
   "metadata": {},
   "outputs": [],
   "source": [
    "import pandas as pd \n",
    "import numpy as np \n",
    "import matplotlib.pyplot as plt"
   ]
  },
  {
   "cell_type": "code",
   "execution_count": 3,
   "id": "4961cc8c",
   "metadata": {},
   "outputs": [],
   "source": [
    "df = pd.read_csv(\"/media/prince/5A4E832F4E83034D/testing /files/train.csv\")"
   ]
  },
  {
   "cell_type": "code",
   "execution_count": 4,
   "id": "bca3b50c",
   "metadata": {},
   "outputs": [
    {
     "data": {
      "text/plain": [
       "Index(['longitude', 'latitude', 'ocean_proximity', 'land_value',\n",
       "       'population_range'],\n",
       "      dtype='object')"
      ]
     },
     "execution_count": 4,
     "metadata": {},
     "output_type": "execute_result"
    }
   ],
   "source": [
    "df.columns"
   ]
  },
  {
   "cell_type": "code",
   "execution_count": 5,
   "id": "9b1fd6a2",
   "metadata": {},
   "outputs": [
    {
     "data": {
      "text/plain": [
       "array(['2000-4000', '0-2000', '6000-8000', '4000-6000', '8000-10000',\n",
       "       '10000-12000', '12000-14000', '34000-36000', '16000-18000',\n",
       "       '14000-16000'], dtype=object)"
      ]
     },
     "execution_count": 5,
     "metadata": {},
     "output_type": "execute_result"
    }
   ],
   "source": [
    "# df.drop('population' ,axis=1, inplace=True)\n",
    "df.head(10)\n",
    "df['population_range'].unique()"
   ]
  },
  {
   "cell_type": "code",
   "execution_count": 6,
   "id": "02db508e",
   "metadata": {},
   "outputs": [
    {
     "data": {
      "text/html": [
       "<div>\n",
       "<style scoped>\n",
       "    .dataframe tbody tr th:only-of-type {\n",
       "        vertical-align: middle;\n",
       "    }\n",
       "\n",
       "    .dataframe tbody tr th {\n",
       "        vertical-align: top;\n",
       "    }\n",
       "\n",
       "    .dataframe thead th {\n",
       "        text-align: right;\n",
       "    }\n",
       "</style>\n",
       "<table border=\"1\" class=\"dataframe\">\n",
       "  <thead>\n",
       "    <tr style=\"text-align: right;\">\n",
       "      <th></th>\n",
       "      <th>longitude</th>\n",
       "      <th>latitude</th>\n",
       "      <th>ocean_proximity</th>\n",
       "      <th>land_value</th>\n",
       "      <th>population_range</th>\n",
       "    </tr>\n",
       "  </thead>\n",
       "  <tbody>\n",
       "    <tr>\n",
       "      <th>0</th>\n",
       "      <td>-121.46</td>\n",
       "      <td>38.52</td>\n",
       "      <td>INLAND</td>\n",
       "      <td>89404.0</td>\n",
       "      <td>2000-4000</td>\n",
       "    </tr>\n",
       "    <tr>\n",
       "      <th>1</th>\n",
       "      <td>-117.23</td>\n",
       "      <td>33.09</td>\n",
       "      <td>NEAR OCEAN</td>\n",
       "      <td>346704.0</td>\n",
       "      <td>2000-4000</td>\n",
       "    </tr>\n",
       "    <tr>\n",
       "      <th>2</th>\n",
       "      <td>-119.04</td>\n",
       "      <td>35.37</td>\n",
       "      <td>INLAND</td>\n",
       "      <td>102548.0</td>\n",
       "      <td>0-2000</td>\n",
       "    </tr>\n",
       "    <tr>\n",
       "      <th>3</th>\n",
       "      <td>-117.13</td>\n",
       "      <td>32.75</td>\n",
       "      <td>NEAR OCEAN</td>\n",
       "      <td>139500.0</td>\n",
       "      <td>0-2000</td>\n",
       "    </tr>\n",
       "    <tr>\n",
       "      <th>4</th>\n",
       "      <td>-118.70</td>\n",
       "      <td>34.28</td>\n",
       "      <td>&lt;1H OCEAN</td>\n",
       "      <td>295492.0</td>\n",
       "      <td>0-2000</td>\n",
       "    </tr>\n",
       "  </tbody>\n",
       "</table>\n",
       "</div>"
      ],
      "text/plain": [
       "   longitude  latitude ocean_proximity  land_value population_range\n",
       "0    -121.46     38.52          INLAND     89404.0        2000-4000\n",
       "1    -117.23     33.09      NEAR OCEAN    346704.0        2000-4000\n",
       "2    -119.04     35.37          INLAND    102548.0           0-2000\n",
       "3    -117.13     32.75      NEAR OCEAN    139500.0           0-2000\n",
       "4    -118.70     34.28       <1H OCEAN    295492.0           0-2000"
      ]
     },
     "execution_count": 6,
     "metadata": {},
     "output_type": "execute_result"
    }
   ],
   "source": [
    "df.head()"
   ]
  },
  {
   "cell_type": "code",
   "execution_count": 7,
   "id": "700c8321",
   "metadata": {},
   "outputs": [],
   "source": [
    "df.to_csv('test.csv', index=False)"
   ]
  },
  {
   "cell_type": "code",
   "execution_count": 8,
   "id": "a8063597",
   "metadata": {},
   "outputs": [
    {
     "data": {
      "text/plain": [
       "array(['2000-4000', '0-2000', '6000-8000', '4000-6000', '8000-10000',\n",
       "       '10000-12000', '12000-14000', '34000-36000', '16000-18000',\n",
       "       '14000-16000'], dtype=object)"
      ]
     },
     "execution_count": 8,
     "metadata": {},
     "output_type": "execute_result"
    }
   ],
   "source": [
    "df['population_range'].unique()"
   ]
  },
  {
   "cell_type": "code",
   "execution_count": 9,
   "id": "bd2e35d0",
   "metadata": {},
   "outputs": [
    {
     "data": {
      "text/plain": [
       "array(['INLAND', 'NEAR OCEAN', '<1H OCEAN', 'NEAR BAY', 'ISLAND'],\n",
       "      dtype=object)"
      ]
     },
     "execution_count": 9,
     "metadata": {},
     "output_type": "execute_result"
    }
   ],
   "source": [
    "df['ocean_proximity'].unique()  "
   ]
  },
  {
   "cell_type": "code",
   "execution_count": 11,
   "id": "d0c4e34a",
   "metadata": {},
   "outputs": [
    {
     "data": {
      "text/plain": [
       "(-114.31, 41.95)"
      ]
     },
     "execution_count": 11,
     "metadata": {},
     "output_type": "execute_result"
    }
   ],
   "source": [
    "df['longitude'].max(), df['latitude'].max()"
   ]
  },
  {
   "cell_type": "code",
   "execution_count": null,
   "id": "e44104d0",
   "metadata": {},
   "outputs": [],
   "source": []
  },
  {
   "cell_type": "code",
   "execution_count": 13,
   "id": "55332983",
   "metadata": {},
   "outputs": [
    {
     "data": {
      "text/plain": [
       "(-124.35, 32.54)"
      ]
     },
     "execution_count": 13,
     "metadata": {},
     "output_type": "execute_result"
    }
   ],
   "source": [
    "df['longitude'].min(), df['latitude'].min()"
   ]
  },
  {
   "cell_type": "code",
   "execution_count": null,
   "id": "17b9c36c",
   "metadata": {},
   "outputs": [],
   "source": []
  },
  {
   "cell_type": "code",
   "execution_count": null,
   "id": "dd53fea9",
   "metadata": {},
   "outputs": [],
   "source": []
  }
 ],
 "metadata": {
  "kernelspec": {
   "display_name": "base",
   "language": "python",
   "name": "python3"
  },
  "language_info": {
   "codemirror_mode": {
    "name": "ipython",
    "version": 3
   },
   "file_extension": ".py",
   "mimetype": "text/x-python",
   "name": "python",
   "nbconvert_exporter": "python",
   "pygments_lexer": "ipython3",
   "version": "3.13.5"
  }
 },
 "nbformat": 4,
 "nbformat_minor": 5
}
