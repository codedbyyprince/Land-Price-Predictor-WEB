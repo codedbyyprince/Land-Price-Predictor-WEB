{
 "cells": [
  {
   "cell_type": "code",
   "execution_count": 148,
   "id": "5d0bbcc5",
   "metadata": {},
   "outputs": [],
   "source": [
    "import pandas as pd \n",
    "import numpy as np \n",
    "import matplotlib.pyplot as plt"
   ]
  },
  {
   "cell_type": "code",
   "execution_count": 149,
   "id": "4961cc8c",
   "metadata": {},
   "outputs": [],
   "source": [
    "df = pd.read_csv(\"/media/prince/5A4E832F4E83034D/testing /test.csv\")"
   ]
  },
  {
   "cell_type": "code",
   "execution_count": 150,
   "id": "bca3b50c",
   "metadata": {},
   "outputs": [
    {
     "data": {
      "text/plain": [
       "Index(['longitude', 'latitude', 'population', 'median_income',\n",
       "       'ocean_proximity', 'land_value', 'population_range'],\n",
       "      dtype='object')"
      ]
     },
     "execution_count": 150,
     "metadata": {},
     "output_type": "execute_result"
    }
   ],
   "source": [
    "df.columns"
   ]
  },
  {
   "cell_type": "code",
   "execution_count": 151,
   "id": "929d51ed",
   "metadata": {},
   "outputs": [],
   "source": [
    "# df['population'].describe()\n",
    "df.drop('median_income', axis=1, inplace=True)"
   ]
  },
  {
   "cell_type": "code",
   "execution_count": 152,
   "id": "9b1fd6a2",
   "metadata": {},
   "outputs": [
    {
     "data": {
      "text/plain": [
       "array(['2000-4000', '0-2000', '6000-8000', '4000-6000', '8000-10000',\n",
       "       '10000-12000', '28000-30000', '12000-14000'], dtype=object)"
      ]
     },
     "execution_count": 152,
     "metadata": {},
     "output_type": "execute_result"
    }
   ],
   "source": [
    "# df.drop('population' ,axis=1, inplace=True)\n",
    "df.head(10)\n",
    "df['population_range'].unique()"
   ]
  },
  {
   "cell_type": "code",
   "execution_count": 153,
   "id": "02db508e",
   "metadata": {},
   "outputs": [
    {
     "data": {
      "text/html": [
       "<div>\n",
       "<style scoped>\n",
       "    .dataframe tbody tr th:only-of-type {\n",
       "        vertical-align: middle;\n",
       "    }\n",
       "\n",
       "    .dataframe tbody tr th {\n",
       "        vertical-align: top;\n",
       "    }\n",
       "\n",
       "    .dataframe thead th {\n",
       "        text-align: right;\n",
       "    }\n",
       "</style>\n",
       "<table border=\"1\" class=\"dataframe\">\n",
       "  <thead>\n",
       "    <tr style=\"text-align: right;\">\n",
       "      <th></th>\n",
       "      <th>longitude</th>\n",
       "      <th>latitude</th>\n",
       "      <th>population</th>\n",
       "      <th>ocean_proximity</th>\n",
       "      <th>land_value</th>\n",
       "      <th>population_range</th>\n",
       "    </tr>\n",
       "  </thead>\n",
       "  <tbody>\n",
       "    <tr>\n",
       "      <th>0</th>\n",
       "      <td>-118.39</td>\n",
       "      <td>34.12</td>\n",
       "      <td>2184</td>\n",
       "      <td>&lt;1H OCEAN</td>\n",
       "      <td>620001.24</td>\n",
       "      <td>2000-4000</td>\n",
       "    </tr>\n",
       "    <tr>\n",
       "      <th>1</th>\n",
       "      <td>-120.42</td>\n",
       "      <td>34.89</td>\n",
       "      <td>855</td>\n",
       "      <td>&lt;1H OCEAN</td>\n",
       "      <td>201500.00</td>\n",
       "      <td>0-2000</td>\n",
       "    </tr>\n",
       "    <tr>\n",
       "      <th>2</th>\n",
       "      <td>-118.45</td>\n",
       "      <td>34.25</td>\n",
       "      <td>808</td>\n",
       "      <td>&lt;1H OCEAN</td>\n",
       "      <td>253704.00</td>\n",
       "      <td>0-2000</td>\n",
       "    </tr>\n",
       "    <tr>\n",
       "      <th>3</th>\n",
       "      <td>-118.10</td>\n",
       "      <td>33.91</td>\n",
       "      <td>1072</td>\n",
       "      <td>&lt;1H OCEAN</td>\n",
       "      <td>198028.00</td>\n",
       "      <td>0-2000</td>\n",
       "    </tr>\n",
       "    <tr>\n",
       "      <th>4</th>\n",
       "      <td>-117.07</td>\n",
       "      <td>32.77</td>\n",
       "      <td>1495</td>\n",
       "      <td>NEAR OCEAN</td>\n",
       "      <td>228160.00</td>\n",
       "      <td>0-2000</td>\n",
       "    </tr>\n",
       "  </tbody>\n",
       "</table>\n",
       "</div>"
      ],
      "text/plain": [
       "   longitude  latitude  population ocean_proximity  land_value  \\\n",
       "0    -118.39     34.12        2184       <1H OCEAN   620001.24   \n",
       "1    -120.42     34.89         855       <1H OCEAN   201500.00   \n",
       "2    -118.45     34.25         808       <1H OCEAN   253704.00   \n",
       "3    -118.10     33.91        1072       <1H OCEAN   198028.00   \n",
       "4    -117.07     32.77        1495      NEAR OCEAN   228160.00   \n",
       "\n",
       "  population_range  \n",
       "0        2000-4000  \n",
       "1           0-2000  \n",
       "2           0-2000  \n",
       "3           0-2000  \n",
       "4           0-2000  "
      ]
     },
     "execution_count": 153,
     "metadata": {},
     "output_type": "execute_result"
    }
   ],
   "source": [
    "df.head()"
   ]
  },
  {
   "cell_type": "code",
   "execution_count": 154,
   "id": "700c8321",
   "metadata": {},
   "outputs": [],
   "source": [
    "df.to_csv('test.csv', index=False)"
   ]
  },
  {
   "cell_type": "code",
   "execution_count": null,
   "id": "a8063597",
   "metadata": {},
   "outputs": [],
   "source": []
  },
  {
   "cell_type": "code",
   "execution_count": null,
   "id": "bd2e35d0",
   "metadata": {},
   "outputs": [],
   "source": []
  }
 ],
 "metadata": {
  "kernelspec": {
   "display_name": "base",
   "language": "python",
   "name": "python3"
  },
  "language_info": {
   "codemirror_mode": {
    "name": "ipython",
    "version": 3
   },
   "file_extension": ".py",
   "mimetype": "text/x-python",
   "name": "python",
   "nbconvert_exporter": "python",
   "pygments_lexer": "ipython3",
   "version": "3.13.5"
  }
 },
 "nbformat": 4,
 "nbformat_minor": 5
}
