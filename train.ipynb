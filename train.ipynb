{
 "cells": [
  {
   "cell_type": "code",
   "execution_count": 35,
   "id": "b99dc8c6",
   "metadata": {},
   "outputs": [],
   "source": [
    "import pandas as pd\n",
    "import numpy as np \n",
    "import joblib\n",
    "from sklearn.model_selection import StratifiedShuffleSplit\n",
    "from sklearn.impute import SimpleImputer\n",
    "from sklearn.pipeline import Pipeline\n",
    "from sklearn.compose import ColumnTransformer\n",
    "from sklearn.preprocessing import OneHotEncoder, StandardScaler\n",
    "from sklearn.tree import DecisionTreeRegressor\n",
    "from sklearn.linear_model import LinearRegression\n",
    "from sklearn.ensemble import RandomForestRegressor\n",
    "from sklearn.metrics import root_mean_squared_error\n",
    "from sklearn.model_selection import cross_val_score\n"
   ]
  },
  {
   "cell_type": "code",
   "execution_count": 36,
   "id": "596717d7",
   "metadata": {},
   "outputs": [],
   "source": [
    "# training land price predictoion dataset\n",
    "data = pd.read_csv('/media/prince/5A4E832F4E83034D/testing /new_train.csv')"
   ]
  },
  {
   "cell_type": "code",
   "execution_count": 37,
   "id": "4ef76d7c",
   "metadata": {},
   "outputs": [],
   "source": [
    "# seprating features and labels\n",
    "land_prices = data['land_value']\n",
    "data = data.drop('land_value', axis=1)"
   ]
  },
  {
   "cell_type": "code",
   "execution_count": 38,
   "id": "fd049c24",
   "metadata": {},
   "outputs": [],
   "source": [
    "# creating pipline function \n",
    "def build_pipline(num_attribs, cat_atribs):\n",
    "    # lets make the pipline \n",
    "    num_pipline = Pipeline([\n",
    "        (\"imputer\" , SimpleImputer(strategy=\"median\")),\n",
    "        (\"scaler\" , StandardScaler())\n",
    "    ])\n",
    "\n",
    "    cat_pipline = Pipeline([\n",
    "        (\"onehot\" , OneHotEncoder(handle_unknown=\"ignore\"))\n",
    "    ])\n",
    "\n",
    "    # constructing full pipline \n",
    "    full_pipline = ColumnTransformer([\n",
    "        (\"num\" , num_pipline, num_attribs),\n",
    "        (\"cat\", cat_pipline, cat_atribs)    \n",
    "        ])\n",
    "    return full_pipline"
   ]
  },
  {
   "cell_type": "code",
   "execution_count": 39,
   "id": "bfa9ab29",
   "metadata": {},
   "outputs": [],
   "source": [
    "# seprating attribs\n",
    "num_attribs = data.drop('ocean_proximity', axis=1).columns.to_list()\n",
    "cat_attribs = ['ocean_proximity']\n",
    "\n",
    "# building pipline\n",
    "full_pipline = build_pipline(num_attribs, cat_attribs)\n",
    "data_prepared = full_pipline.fit_transform(data)"
   ]
  },
  {
   "cell_type": "code",
   "execution_count": 40,
   "id": "0a71518f",
   "metadata": {},
   "outputs": [],
   "source": [
    "MODEL_FILE = \"model.pkl\"\n",
    "PIPLINE_FILE = \"pipline.pkl\""
   ]
  },
  {
   "cell_type": "code",
   "execution_count": 41,
   "id": "7478cb76",
   "metadata": {},
   "outputs": [
    {
     "name": "stdout",
     "output_type": "stream",
     "text": [
      "done\n"
     ]
    }
   ],
   "source": [
    "# training the models \n",
    "# choosing random forrest \n",
    "model = RandomForestRegressor()\n",
    "model.fit(data_prepared, land_prices)\n",
    "joblib.dump(model , MODEL_FILE)\n",
    "joblib.dump(full_pipline , PIPLINE_FILE)\n",
    "print(\"done\")"
   ]
  },
  {
   "cell_type": "code",
   "execution_count": 43,
   "id": "a38dc0f5",
   "metadata": {},
   "outputs": [
    {
     "name": "stdout",
     "output_type": "stream",
     "text": [
      "inference is completed\n"
     ]
    }
   ],
   "source": [
    "model = joblib.load(MODEL_FILE)\n",
    "pipline = joblib.load(PIPLINE_FILE)\n",
    "input_data = pd.read_csv('input.csv')\n",
    "transformed_input = pipline.transform(input_data)\n",
    "prediction = model.predict(transformed_input)\n",
    "input_data['land_value'] = prediction\n",
    "input_data.to_csv('output.csv', index = False)\n",
    "print(\"inference is completed\")"
   ]
  },
  {
   "cell_type": "code",
   "execution_count": null,
   "id": "211e71d1",
   "metadata": {},
   "outputs": [],
   "source": []
  }
 ],
 "metadata": {
  "kernelspec": {
   "display_name": "base",
   "language": "python",
   "name": "python3"
  },
  "language_info": {
   "codemirror_mode": {
    "name": "ipython",
    "version": 3
   },
   "file_extension": ".py",
   "mimetype": "text/x-python",
   "name": "python",
   "nbconvert_exporter": "python",
   "pygments_lexer": "ipython3",
   "version": "3.13.5"
  }
 },
 "nbformat": 4,
 "nbformat_minor": 5
}
