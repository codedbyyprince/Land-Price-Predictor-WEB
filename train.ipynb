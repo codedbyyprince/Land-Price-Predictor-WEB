{
 "cells": [
  {
   "cell_type": "code",
   "execution_count": 10,
   "id": "b99dc8c6",
   "metadata": {},
   "outputs": [],
   "source": [
    "import pandas as pd\n",
    "import numpy as np \n",
    "from sklearn.model_selection import StratifiedShuffleSplit\n",
    "from sklearn.impute import SimpleImputer\n",
    "from sklearn.pipeline import Pipeline\n",
    "from sklearn.compose import ColumnTransformer\n",
    "from sklearn.preprocessing import OneHotEncoder, StandardScaler\n",
    "from sklearn.tree import DecisionTreeRegressor\n",
    "from sklearn.linear_model import LinearRegression\n",
    "from sklearn.ensemble import RandomForestRegressor\n",
    "from sklearn.metrics import root_mean_squared_error\n",
    "from sklearn.model_selection import cross_val_score\n"
   ]
  },
  {
   "cell_type": "code",
   "execution_count": 11,
   "id": "596717d7",
   "metadata": {},
   "outputs": [],
   "source": [
    "# training land price predictoion dataset\n",
    "data = pd.read_csv('/media/prince/5A4E832F4E83034D/testing /new_train.csv')"
   ]
  },
  {
   "cell_type": "code",
   "execution_count": 12,
   "id": "4ef76d7c",
   "metadata": {},
   "outputs": [],
   "source": [
    "# seprating features and labels\n",
    "land_prices = data['land_value']\n",
    "data = data.drop('land_value', axis=1)"
   ]
  },
  {
   "cell_type": "code",
   "execution_count": 13,
   "id": "fd049c24",
   "metadata": {},
   "outputs": [],
   "source": [
    "# creating pipline\n",
    "num_attribs = data.drop('ocean_proximity', axis=1).columns.to_list()\n",
    "cat_attribs = ['ocean_proximity']\n",
    "num_pipline = Pipeline([\n",
    "    (\"imputer\" , SimpleImputer(strategy=\"median\")),\n",
    "    (\"scaler\" , StandardScaler())\n",
    "])\n",
    "\n",
    "cat_pipline = Pipeline([\n",
    "    (\"onehot\" , OneHotEncoder(handle_unknown=\"ignore\"))\n",
    "])\n",
    "\n",
    "# constructing full pipline \n",
    "full_pipline = ColumnTransformer([\n",
    "    (\"num\" , num_pipline, num_attribs),\n",
    "    (\"cat\", cat_pipline, cat_attribs)    \n",
    "    ])"
   ]
  },
  {
   "cell_type": "code",
   "execution_count": 15,
   "id": "8420f6cd",
   "metadata": {},
   "outputs": [],
   "source": [
    "# fitting the pipeline\n",
    "data_prepared = full_pipline.fit_transform(data)"
   ]
  },
  {
   "cell_type": "code",
   "execution_count": 19,
   "id": "73cbec67",
   "metadata": {},
   "outputs": [
    {
     "name": "stdout",
     "output_type": "stream",
     "text": [
      "linearregresion = 90714.8069584771\n",
      "count       10.000000\n",
      "mean     90716.396640\n",
      "std       3131.604147\n",
      "min      85658.591427\n",
      "25%      88586.334770\n",
      "50%      91100.346106\n",
      "75%      93045.353286\n",
      "max      95417.047367\n",
      "dtype: float64\n"
     ]
    }
   ],
   "source": [
    "# trying to check which is the best model\n",
    "# linear regresion \n",
    "lin_reg = LinearRegression()\n",
    "lin_reg.fit(data_prepared , land_prices)\n",
    "lin_preds = lin_reg.predict(data_prepared)\n",
    "lin_rmse = root_mean_squared_error(land_prices , lin_preds)\n",
    "print(f\"linearregresion = {lin_rmse}\")\n",
    "lin_rmses = -cross_val_score(\n",
    "    lin_reg,\n",
    "    data_prepared,\n",
    "    land_prices,\n",
    "    scoring=\"neg_root_mean_squared_error\",\n",
    "    cv=10\n",
    ")\n",
    "\n",
    "print(pd.Series(lin_rmses).describe())\n"
   ]
  },
  {
   "cell_type": "code",
   "execution_count": 20,
   "id": "e977b8d5",
   "metadata": {},
   "outputs": [
    {
     "name": "stdout",
     "output_type": "stream",
     "text": [
      "decisiontree = 6.29562579033786e-11\n",
      "count       10.000000\n",
      "mean     82926.429172\n",
      "std       2549.531454\n",
      "min      79687.285186\n",
      "25%      81239.409912\n",
      "50%      82417.382588\n",
      "75%      84349.169029\n",
      "max      87414.604774\n",
      "dtype: float64\n"
     ]
    }
   ],
   "source": [
    "# decison tree  regresion \n",
    "dec_reg = DecisionTreeRegressor()\n",
    "dec_reg.fit(data_prepared , land_prices)\n",
    "dec_preds = dec_reg.predict(data_prepared)\n",
    "dec_rmse = root_mean_squared_error(land_prices , dec_preds)\n",
    "print(f\"decisiontree = {dec_rmse}\")\n",
    "dec_rmses = -cross_val_score(\n",
    "    dec_reg,\n",
    "    data_prepared,\n",
    "    land_prices,\n",
    "    scoring=\"neg_root_mean_squared_error\",\n",
    "    cv=10\n",
    ")\n",
    "print(pd.Series(dec_rmses).describe())\n"
   ]
  },
  {
   "cell_type": "code",
   "execution_count": 21,
   "id": "bfa9ab29",
   "metadata": {},
   "outputs": [
    {
     "name": "stdout",
     "output_type": "stream",
     "text": [
      "randomforest = 22668.89515089795\n",
      "count       10.000000\n",
      "mean     60959.884728\n",
      "std       2169.484903\n",
      "min      57769.943027\n",
      "25%      59369.339228\n",
      "50%      60928.766251\n",
      "75%      62442.451340\n",
      "max      64885.779253\n",
      "dtype: float64\n"
     ]
    }
   ],
   "source": [
    "# random forest regresion \n",
    "ran_reg = RandomForestRegressor()\n",
    "ran_reg.fit(data_prepared , land_prices)\n",
    "ran_preds = ran_reg.predict(data_prepared)\n",
    "ran_rmse = root_mean_squared_error(land_prices , ran_preds)\n",
    "print(f\"randomforest = {ran_rmse}\")\n",
    "ran_rmses = -cross_val_score(\n",
    "    ran_reg,\n",
    "    data_prepared,\n",
    "    land_prices,\n",
    "    scoring=\"neg_root_mean_squared_error\",\n",
    "    cv=10\n",
    ")\n",
    "\n",
    "print(pd.Series(ran_rmses).describe())\n"
   ]
  },
  {
   "cell_type": "code",
   "execution_count": null,
   "id": "7478cb76",
   "metadata": {},
   "outputs": [],
   "source": []
  }
 ],
 "metadata": {
  "kernelspec": {
   "display_name": "base",
   "language": "python",
   "name": "python3"
  },
  "language_info": {
   "codemirror_mode": {
    "name": "ipython",
    "version": 3
   },
   "file_extension": ".py",
   "mimetype": "text/x-python",
   "name": "python",
   "nbconvert_exporter": "python",
   "pygments_lexer": "ipython3",
   "version": "3.13.5"
  }
 },
 "nbformat": 4,
 "nbformat_minor": 5
}
